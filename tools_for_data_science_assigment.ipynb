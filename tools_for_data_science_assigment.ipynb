{
 "cells": [
  {
   "cell_type": "markdown",
   "id": "5c61b72b-25d1-4168-a6f2-2dc43ce7774a",
   "metadata": {},
   "source": [
    "# Data Science Tools and Ecosystem"
   ]
  },
  {
   "cell_type": "markdown",
   "id": "217c87d0-777a-43d0-a78d-0a502f0d19d3",
   "metadata": {},
   "source": [
    "In this notebook, we will provide a summary of data science tools and the ecosystem."
   ]
  },
  {
   "cell_type": "markdown",
   "id": "91e8476d-d8dc-4c78-801c-c1eaf4477729",
   "metadata": {},
   "source": [
    "Some of the popular languages that Data Scientists use are:\n",
    "1.  Python\n",
    "2.  R\n",
    "3.  SQL"
   ]
  },
  {
   "cell_type": "markdown",
   "id": "433ab06c-ab54-4151-ac66-a95459ebf69a",
   "metadata": {},
   "source": [
    "Some of the commonly used libraries used by Data Scientists include:\n",
    "1.  Pandas\n",
    "2.  NumPy\n",
    "3.  Scikit-learn"
   ]
  },
  {
   "cell_type": "markdown",
   "id": "1f8ccfd9-7244-4eab-9831-6adf636db5b8",
   "metadata": {},
   "source": [
    "| Data Science Tools |\n",
    "| ------------------ |\n",
    "| Jupyter Notebook   |\n",
    "| RStudio            |\n",
    "| Apache Spark       |"
   ]
  },
  {
   "cell_type": "markdown",
   "id": "1a373a7b-4b8e-4cbb-8385-68a32ad3e437",
   "metadata": {},
   "source": [
    "### Below are a few examples of evaluating arithmetic expressions in Python"
   ]
  },
  {
   "cell_type": "code",
   "execution_count": null,
   "id": "1c43e184-8ff1-46c0-9a41-c36683893d02",
   "metadata": {},
   "outputs": [],
   "source": [
    "# This is a simple arithmetic expression to multiply then add integers\n",
    "(3*4)+5"
   ]
  },
  {
   "cell_type": "code",
   "execution_count": null,
   "id": "75ab0092-9c9b-4530-8a7f-91e2a6ffb521",
   "metadata": {},
   "outputs": [],
   "source": [
    "# This will convert 200 minutes to hours by dividing by 60\n",
    "200/60"
   ]
  },
  {
   "cell_type": "markdown",
   "id": "45736442-a87d-4502-a25a-12aa2b0aad82",
   "metadata": {},
   "source": [
    "**Objectives:**\n",
    "\n",
    "*   List popular languages for Data Science\n",
    "*   List popular libraries for Data Science\n",
    "*   List Data Science Tools"
   ]
  },
  {
   "cell_type": "markdown",
   "id": "6586f2aa-e6a4-4638-9344-28efaeb20ccf",
   "metadata": {},
   "source": [
    "## Author\n",
    "John Doe"
   ]
  }
 ],
 "metadata": {
  "kernelspec": {
   "display_name": "Python 3 (ipykernel)",
   "language": "python",
   "name": "python3"
  },
  "language_info": {
   "codemirror_mode": {
    "name": "ipython",
    "version": 3
   },
   "file_extension": ".py",
   "mimetype": "text/x-python",
   "name": "python",
   "nbconvert_exporter": "python",
   "pygments_lexer": "ipython3",
   "version": "3.12.10"
  }
 },
 "nbformat": 4,
 "nbformat_minor": 5
}
